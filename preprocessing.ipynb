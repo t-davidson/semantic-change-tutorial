{
 "cells": [
  {
   "cell_type": "markdown",
   "metadata": {},
   "source": [
    "### Loading and preprocessing data\n",
    "\n",
    "The comments from Donald Trump's official Facebook page were collected using the Facebook Graph API and stored in a MongoDB database. In this file I define some time periods of interest, extract a random sample of 5 million comments from the database for each period, and store these as json files.\n",
    "\n",
    "***Note: Unless you have collected the data on our own and have an identical database you cannot run this code, it is simply here to show how I preprocessed the data***"
   ]
  },
  {
   "cell_type": "code",
   "execution_count": 1,
   "metadata": {},
   "outputs": [
    {
     "data": {
      "text/plain": [
       "True"
      ]
     },
     "execution_count": 1,
     "metadata": {},
     "output_type": "execute_result"
    }
   ],
   "source": [
    "from pymongo import MongoClient\n",
    "from db_tools import *\n",
    "import re\n",
    "import json\n",
    "client = MongoClient('localhost', 27017)\n",
    "db = client.DATABASE # Database name and credentials have been changed for security\n",
    "db.authenticate('USERNAME', 'PASSWORD', source='USER')"
   ]
  },
  {
   "cell_type": "code",
   "execution_count": 3,
   "metadata": {},
   "outputs": [],
   "source": [
    "t = db.DonaldTrump_comments"
   ]
  },
  {
   "cell_type": "code",
   "execution_count": 4,
   "metadata": {},
   "outputs": [
    {
     "data": {
      "text/plain": [
       "16943290"
      ]
     },
     "execution_count": 4,
     "metadata": {},
     "output_type": "execute_result"
    }
   ],
   "source": [
    "t.count()"
   ]
  },
  {
   "cell_type": "code",
   "execution_count": 8,
   "metadata": {},
   "outputs": [
    {
     "data": {
      "text/plain": [
       "{'_id': ObjectId('59fdeaafdf6f4525f4ae8590'),\n",
       " 'author_id': '1399832183389550',\n",
       " 'comment_author': 'Hemin Badraddin',\n",
       " 'comment_id': '10160057480090725_284567205380253',\n",
       " 'comment_message': '#kurdistan \\n#supportkurdistan\\n#KurdistanBlockade\\n#Peshmerga',\n",
       " 'like_count': 0,\n",
       " 'page_id': 'DonaldTrump',\n",
       " 'position': 9,\n",
       " 'status_id': '153080620724_10160057480090725',\n",
       " 'timestamp': datetime.datetime(2017, 10, 26, 19, 27, 36)}"
      ]
     },
     "execution_count": 8,
     "metadata": {},
     "output_type": "execute_result"
    }
   ],
   "source": [
    "t.find_one()"
   ]
  },
  {
   "cell_type": "markdown",
   "metadata": {},
   "source": [
    "Creating indices on the collection to speed up query time."
   ]
  },
  {
   "cell_type": "code",
   "execution_count": 9,
   "metadata": {},
   "outputs": [
    {
     "name": "stdout",
     "output_type": "stream",
     "text": [
      "CPU times: user 1.97 s, sys: 960 ms, total: 2.93 s\n",
      "Wall time: 46min 53s\n"
     ]
    }
   ],
   "source": [
    "%%time\n",
    "import pymongo\n",
    "t.create_index([('author_id', pymongo.ASCENDING)],unique=False)\n",
    "t.create_index([('timestamp', pymongo.ASCENDING)],unique=False)\n",
    "t.create_index([('comment_message', pymongo.TEXT)], unique=False, \n",
    "                               default_language='english')"
   ]
  },
  {
   "cell_type": "code",
   "execution_count": 15,
   "metadata": {},
   "outputs": [],
   "source": [
    "def SampleByDate(collection, START_DATE, END_DATE, sample_size=5):\n",
    "    \"\"\"Returns a sample of the records in a collection, stratified by\n",
    "    the number of likes. Sample size can also be set.\"\"\"\n",
    "    S = collection.aggregate([\n",
    "        {\"$match\": {\"timestamp\": {'$gte':START_DATE ,\"$lt\": END_DATE}}},\n",
    "        {'$sample': { 'size': sample_size }}\n",
    "    ],allowDiskUse=True)\n",
    "    return [x for x in S]"
   ]
  },
  {
   "cell_type": "markdown",
   "metadata": {},
   "source": [
    "Defining functions to clean up the raw text data."
   ]
  },
  {
   "cell_type": "code",
   "execution_count": 20,
   "metadata": {},
   "outputs": [],
   "source": [
    "def remove_url(text_string):\n",
    "    \"\"\"\n",
    "    Accepts a text string and replaces:\n",
    "    1) urls with URLHERE\n",
    "\n",
    "    \"\"\"\n",
    "    giant_url_regex = 'http[s]?://(?:[a-zA-Z]|[0-9]|[$-_@.&+]|[!*\\(\\),]|(?:%[0-9a-fA-F][0-9a-fA-F]))+'\n",
    "    parsed_text = re.sub(giant_url_regex, 'URL', text_string)\n",
    "    return parsed_text\n",
    "\n",
    "def tokenize(tweet):\n",
    "    \"\"\"Removes punctuation & excess whitespace, sets to lowercase,\n",
    "    and stems tweets. Returns a list of stemmed tokens.\"\"\"\n",
    "    tweet = remove_url(tweet)\n",
    "    tweet = \" \".join(re.split(\"[^a-zA-Z]*\", tweet.lower().strip()))\n",
    "    return tweet.split()"
   ]
  },
  {
   "cell_type": "code",
   "execution_count": 25,
   "metadata": {},
   "outputs": [
    {
     "name": "stderr",
     "output_type": "stream",
     "text": [
      "/usr/local/Cellar/python3/3.6.3/Frameworks/Python.framework/Versions/3.6/lib/python3.6/re.py:212: FutureWarning: split() requires a non-empty pattern match.\n",
      "  return _compile(pattern, flags).split(string, maxsplit)\n"
     ]
    },
    {
     "data": {
      "text/plain": [
       "['this', 'is', 'a', 'test', 'string', 'url']"
      ]
     },
     "execution_count": 25,
     "metadata": {},
     "output_type": "execute_result"
    }
   ],
   "source": [
    "s = 'This is a test string!!! http://www.test.com'\n",
    "tokenize(s)"
   ]
  },
  {
   "cell_type": "code",
   "execution_count": 29,
   "metadata": {},
   "outputs": [],
   "source": [
    "S = SampleByDate(t, datetime(2015,6,16), datetime(2015,12,16), 100)"
   ]
  },
  {
   "cell_type": "code",
   "execution_count": 33,
   "metadata": {},
   "outputs": [],
   "source": [
    "S_ = [x['comment_message'] for x in S]"
   ]
  },
  {
   "cell_type": "code",
   "execution_count": 34,
   "metadata": {},
   "outputs": [
    {
     "data": {
      "text/plain": [
       "['The best part- he is NOT a politician.',\n",
       " \"Don't sign the pledge, don't sign the pledge, don't sign the pledge. You can win this thing even as an independent!\",\n",
       " 'Trump 2016',\n",
       " \"I'm pretty sure he doesn't actually want yo be president. Like it was a joke that got too far and now has has to say all these ridiculous things so he doesn't have to back out\",\n",
       " 'As someone who lived in MD under his tenure as Governor. I can assure you he is as stupid as he seems.  He destroyed that state.',\n",
       " 'RACISTS homophobes>>>lol pc?',\n",
       " \"I'm on board!\",\n",
       " \"If Trump actually read the Bill of Rights, he'd know that he can't close a Mosque. So he either didn't read it. Doesn't understand it, or is pandering to the fools who think he'll still be in the race in 4 months. This is a publicity stunt. He's trailing Carson in the Iowa polls. He has zero chance of ever being elected to any office.\",\n",
       " 'Do it if the GOP establishment (old guard politicians) have turned their backs on you. And if the election is lost to Hillary then THEY will have to eat crap!',\n",
       " \"yeah you got some real firing to do.....they're waiting for you in Washington,D.C. The White House...simply say it as only you can Donald Trump........YOU'RE FIRED.........\",\n",
       " \"John Stasio That's pretty funny, John!\",\n",
       " 'Go Mr. Trump!!!',\n",
       " 'We love you Mr Trump...plz save this country...I will be doing all I can to get votes 4 you..',\n",
       " 'https://www.etsy.com/shop/GMIclothingcompany?ele=shop_open',\n",
       " 'Donald Trump you are hereby by voters to be best President of the United States.',\n",
       " 'Only time will tell how the debate went.  I think the moderators who were on the earlier debate were better than the ones on  this one.',\n",
       " 'Democrats will give free everything to all illegals and have taxpayers foot the bill.',\n",
       " 'It too late for him. We need to embrace the problem and quickly resolve it before we are forced to convert to a hateful deadly religion..',\n",
       " 'Is this his first endorsement? I just wrote a paper about endorsements and would have liked to include this one. :(',\n",
       " 'NONSENSE AS 90% WORK FOR CA$H!\\n\\nhttp://www.usatoday.com/story/news/nation/2013/01/23/immigration-spouse-waivers/1858209/',\n",
       " 'OBAMA FORGOT ABOUT THIS LAW......Islam, by law, is prohibited from US immigration\\nThe Immigration and Nationality Act passed June 27, 1952 revised the laws relating to immigration, naturalization, and nationality for the United States. That act, which became Public Law 414, established both the law and the intent of Congress regarding the immigration of Aliens to the US and remains in effect today. Among the many issues it covers, one in particular, found in Chapter 2 Section 212, is the prohibition of entry to the US if the Alien belongs to an organization seeking to overthrow the government of the United States by \"force, violence, or other unconstitutional means.\" This, by its very definition, rules out Islamic immigration to the United States, but this law is being ignored by the White House. Islamic immigration to the US would be prohibited under this law because the Koran, Sharia Law and the Hadith all require complete submission to Islam, which is antithetical to the US government, the Constitution, and to the Republic. All Muslims who attest that the Koran is their life\\'s guiding principal subscribe to submission to Islam and its form of government. Now the political correct crowd would say that Islamists cannot be prohibited from entering the US because Islam is a religion. Whether it is a religion is immaterial because the law states that Aliens who are affiliated with any \"organization\" that advocates the overthrow of our government are prohibited. STOP, THINK, what are those politico elites setting up for the world our kids will live in?? Be nice, even if it literately kills you?? This is a matter of our kid\\'s survival. Vote #Trump, let\\'s get back on course for why we became in the first place. Freedom, #Trump said until vetting can be corrected. But don\\'t read that part right???',\n",
       " 'Marco... Scratch my nuts!',\n",
       " \"Don't do it! It would give Hillary the win if she's not in prison by then? You got my gop vote. If you leave I may not vote at all\",\n",
       " 'And why would you argue the truth?',\n",
       " 'Yes he is but bringing unknown intentions is deliberate to disrupt the beliefs of Americans and ruin our society',\n",
       " \"Lamiae Bonu speaks like she supports he el chickeno.  She must work for the cartel. There her pride. It shows in her statement.  Only one thing she don't realize is she is not in mexico whete she belongs. With her cartel friends. Donald Trump will help her get back to her friends. And every one who states that El chickeno is great to them.\",\n",
       " 'You know  what  to  do  with  that, Mr.Trump !!',\n",
       " 'Sir, you ROCK!!!!',\n",
       " \"Funny how really the only ones hating on TRUMP are trolls and the illegals. Oh and some in OTHER countries, let's not forget those. Lol\",\n",
       " 'Send in the wine.',\n",
       " 'No one else is talking about taking back America. They are trying to prove they are the best of the worst...',\n",
       " 'Beautiful story about you Donald!',\n",
       " 'While your at it, send the people that call themselves American, but seem to hate America, and like to burn our flag, out of the country with the illegals.',\n",
       " \"Take Dennis Michael Lynch with you!!!! He's got the whole scoop on the borders, both southern and northern!!\",\n",
       " 'If you joined the Green Party I would vote for you. LOL',\n",
       " 'and you mexican labor building your cocksuking building by hispanic labor which you deminor so much',\n",
       " 'We already are.',\n",
       " 'I just love him 😁😂',\n",
       " 'Go to bed Donald you drunk \\nhttp://youtu.be/cRly-0wwl_g',\n",
       " 'Ridiculous proposition on their part',\n",
       " \"I've never been politically correct. Lost many jobs because of it, though. I'm an excellent worker. They just didn't like what I said.\",\n",
       " 'Yes! Awesome plan!',\n",
       " \"Politician Donald, that's why we like you!\",\n",
       " 'Thank you #Trump for #honoring our #Law #Enforcement.  #We #Americans #Stand #Strong with the #Support you #give #us. God Bless each and everyone of you.',\n",
       " 'President Trump!',\n",
       " 'Get back on top, stop the -facemaking, ,fight with facts, act /show your statemen professional side, no name calling. your ideas are good, stay on track with the goal- Act like a President.',\n",
       " 'Keep up the good work because things will get done',\n",
       " \"It is true that he attended madrasah as a child and was raised in a Muslim country.  As an adult he said the sweetest sound in all the world is the call to prayer in the evening.  All of his actions point to him hating Israel and being a Muslim sympathizer.  Screw him.  Donald you're not a great politician but you keep it real and that's why you will win the nomination.  Don't change, just keep being yourself and keep winning.\",\n",
       " 'God Bless you Donald J. Trump!!!',\n",
       " 'My guess is she is a little paranoid, with you in the lead. Desperate acts on her part. Which are about as worthless as she is!',\n",
       " 'Johnny listen to what he says, there is to much for me to list. The big thing is making America great again. He doesnt lie like the rest of the politicians. He cant be bought. Like the rest. He has a backbone, unlike the rest. Just to mention a few. We have heard enough lies from the current politicians.',\n",
       " 'Regardless of money.....this family has so much dignity and class that I cant wait for TRUMP AMERICA  2016-2024 !!!!',\n",
       " '#TRUMPFORPRESIDENTNOW!🇺🇸🇺🇸🇺🇸🇺🇸🇺🇸',\n",
       " 'I hope he is our next President, he pulls.no punches, is matter of fact.  He is what this country needs. Love this man',\n",
       " 'https://www.youtube.com/watch?v=Ruq4COO_g6s',\n",
       " 'Yo my name is Willie Taylor the 3rd I keep trying to inform you that I have created several types of infinite energy sources net worth Trillian on top of trillions total world infrastructure mutation post back if you are interested Technologies of  2015 sci-fi reality 2020',\n",
       " 'Webb, for sure!',\n",
       " \"I know why isn't anyone getting him out of there he's a danger to all Americans!!!\",\n",
       " 'Yeah',\n",
       " 'When you put E-Verify into effect you will not need to deport millions of illegals they will self deport. When you start deporting the others it will influence millions others to go.',\n",
       " \"Love the word 'together'\",\n",
       " 'So who made it un-great?',\n",
       " 'Looks like Fox talking line is Carly and attack Trump.',\n",
       " \"There is a difference between a racist and being a cautious innocent human being . All religions should be respected by all parties but we have come to see facts that there is no other religion but theirs and we don't exist.. as believers in our own religion. That to me is racist. Back off Obama let Trump take over the mess you have caused this country. I can't wait till next November. You will be forgotten so quick by many.\",\n",
       " \"The was good, Jeb wouldn't have to fight, he would bore them into submission.\",\n",
       " '$3999',\n",
       " 'Amen! I agree with this 100 %!',\n",
       " \"All I want is to hear him reply to a straight forward  question with a straight forward answer. Have you ever really heard him really answer a question?? He does start to, but then goes way off track without ever answering the actual question. In an interview with Anderson Cooper, Anderson kept asking the same things over and over and got frustrated when he  couldn't get a straight answer.\",\n",
       " 'nothing more but a racist gtfo bruh',\n",
       " '@ Donald Trump, not everyone is supporting you. To most of the world, you are an idiot and not relevant. Please get over yourself and quit preaching hate. Stop pretending to be someone you are not capable of being.. and that is human.',\n",
       " 'Best wishes tonight!',\n",
       " 'Neat. Lol trump is joke...just read the comments.  Nothing but racist,uneducated chumps.',\n",
       " 'FOR ALL YOU BEN CARSON SUPPORTERS LISTEN UP!!!! Ben Carson today has hired one of the biggest racist as Chairman! This man supported segregation, refused to support the Civil Rights Act AND supported Jim Crow!!!! http://thinkprogress.org/politics/2015/11/13/3721990/carson-charles-pickering/',\n",
       " 'Well why dont you just set up a fake super pac',\n",
       " 'understated and classic. That works....lol',\n",
       " \"George never found the weapon's of Mass destruction ugh!!!\",\n",
       " \"Tell 'em Big D!!!\",\n",
       " 'Keep telling it like it is.  We love Donald Trump 2016!\\nhttp://www.dailykos.com/story/2015/11/25/1454170/-Donald-Trump-The-Leader-of-ISIS-Is-Here-in-America',\n",
       " 'shared !',\n",
       " 'Trump is absolutely correct, Great points he makes here that people are forgetting https://www.facebook.com/OutFrontCNN/videos/744373149001579/?video_source=pages_finch_main_video',\n",
       " '😴😴😴😴😴😴😴😴😴😴',\n",
       " 'From the LIBTARD state of Oregon....I am for TRUMP ALL THE WAY TO THE WHITE HOUSE. .!!!!!!!!',\n",
       " 'This thread is an example why our nation is like it is.  We need to unite and make a stand to save our society.  Nuff said. ( texting quote) FYI.',\n",
       " 'Get to office Mr.Trump .. !!',\n",
       " \"Donald J. Trump you're a loser\",\n",
       " \"Juanita. Don't waste your time with these scum of society.\",\n",
       " \"Trump saves snl if he can't do it nobody can.\",\n",
       " 'Fear tactics, divide and conquer. \\nThe earth is for all people, not just some. \\nHitler try and failed .\\nAll religions are man make,and  can be the destruction of man.\\nThe trees,ocean, sun,moon follow the laws of creation that was before the human race come into existence with their destructive laws of deference \"I am black you white, I am Christian you are Muslim, \\nI am an American you are a Canadian, \\nI am South Korean you are North Korean, I am a Palestinian you are an Israeli. \\nIf the Sun stop shine we die. \\nIf there is no air to breathe.\\nIf our water source become polluted we die.\\nIf we focus on our deference we will  never see the resemblance. \\nONE UNIVERSAL LOVE FOR ALL',\n",
       " 'Thats right HAHAHA!!! Donald for president',\n",
       " 'Donald Trump 2016',\n",
       " \"When you Winn this election! Will you tell Obama he's Fired?\",\n",
       " 'Love your hat Donald!   Small business here in nw Missouri, I can make u thousands if u want. $9.00 each.',\n",
       " 'Lie About That He Will Lie About Anything!!!',\n",
       " 'The only 2 dumb blacks dumb enough to vote for Trump. How much did he pay you?',\n",
       " 'What does Obama or Hillary know about foreign policy.  Liberal news media',\n",
       " 'pues por las estupideses que estas diciendo y apollando a esa porqueria de trump que habla pura basura de nosotros (incluyendote a ti) no muestras nada de clase ni corazon',\n",
       " 'How am I a hypocrite?   Do you even know what the word means?',\n",
       " 'Fox has it out for Donald. That is obvious. They are pushing Bush real hard, but will settle for Rubio or Walker. Sad that Fox commentators pulled pages from MSNBC and CNN debate tactics.  This is one thing I like about Trump. He will not take abuse from the media and will attack them, even the ones that are supposedly \"fair and balanced.\" Get rid of Charles, Rove, O\\'Reilly, and now Megan and let the Great One, Mark Levin, moderate the next one all by himself.',\n",
       " 'Down with Hilary and her bloody hands.',\n",
       " 'Trump! Trump! Trump!']"
      ]
     },
     "execution_count": 34,
     "metadata": {},
     "output_type": "execute_result"
    }
   ],
   "source": [
    "S_"
   ]
  },
  {
   "cell_type": "code",
   "execution_count": null,
   "metadata": {},
   "outputs": [
    {
     "name": "stdout",
     "output_type": "stream",
     "text": [
      "0\n",
      "1000000\n"
     ]
    },
    {
     "name": "stderr",
     "output_type": "stream",
     "text": [
      "/usr/local/Cellar/python3/3.6.3/Frameworks/Python.framework/Versions/3.6/lib/python3.6/re.py:212: FutureWarning: split() requires a non-empty pattern match.\n",
      "  return _compile(pattern, flags).split(string, maxsplit)\n"
     ]
    },
    {
     "name": "stdout",
     "output_type": "stream",
     "text": [
      "1\n",
      "1000000\n",
      "2\n"
     ]
    }
   ],
   "source": [
    "# Set of time periods to analyse\n",
    "dates = [(datetime(2015,6,16), datetime(2015,12,15)), # start of campaign to final debate\n",
    "         (datetime(2015,12,16), datetime(2016,5,1)), # until trump named presumptive nominee\n",
    "         (datetime(2016,5,2), datetime(2016,11,8)), # until election day\n",
    "         (datetime(2016,11,9), datetime(2017,4,26)), # until 100th day in office\n",
    "         (datetime(2017,4,27), datetime(2017,11,3)), # until last friday\n",
    "        ]\n",
    "# For each period, get a sample of comments, clean them up, and store on disk\n",
    "for i, d in enumerate(dates):\n",
    "    start = d[0]\n",
    "    end = d[1]\n",
    "    print(i)\n",
    "    sample = SampleByDate(t, start, end, sample_size=1000000)\n",
    "    print(len(sample))\n",
    "    sample = [tokenize(x['comment_message']) for x in sample]\n",
    "    with open(str(i)+'.json','w') as f:\n",
    "        json.dump(sample, f)"
   ]
  }
 ],
 "metadata": {
  "kernelspec": {
   "display_name": "Python 3",
   "language": "python",
   "name": "python3"
  },
  "language_info": {
   "codemirror_mode": {
    "name": "ipython",
    "version": 3
   },
   "file_extension": ".py",
   "mimetype": "text/x-python",
   "name": "python",
   "nbconvert_exporter": "python",
   "pygments_lexer": "ipython3",
   "version": "3.6.3"
  }
 },
 "nbformat": 4,
 "nbformat_minor": 2
}
